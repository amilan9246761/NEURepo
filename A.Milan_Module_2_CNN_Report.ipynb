{
  "nbformat": 4,
  "nbformat_minor": 0,
  "metadata": {
    "colab": {
      "name": "Untitled0.ipynb",
      "provenance": [],
      "authorship_tag": "ABX9TyNcaTi/yAD+GwgCDPCzFDgE",
      "include_colab_link": true
    },
    "kernelspec": {
      "name": "python3",
      "display_name": "Python 3"
    },
    "language_info": {
      "name": "python"
    }
  },
  "cells": [
    {
      "cell_type": "markdown",
      "metadata": {
        "id": "view-in-github",
        "colab_type": "text"
      },
      "source": [
        "<a href=\"https://colab.research.google.com/github/amilan9246761/NEURepo/blob/main/A.Milan_Module_2_CNN_Report.ipynb\" target=\"_parent\"><img src=\"https://colab.research.google.com/assets/colab-badge.svg\" alt=\"Open In Colab\"/></a>"
      ]
    },
    {
      "cell_type": "markdown",
      "metadata": {
        "id": "nPUXswVqK6iM"
      },
      "source": [
        "**MODULE-2 ASSIGNMENT**\n",
        "\n",
        "Go through the entire tutorial above and submit a report(4-5 pages) explaining each of the following\n",
        "segments:\n",
        "\n",
        "1. MNIST Handwritten Digit Classification Dataset\n",
        "2. Model Evaluation Methodology\n",
        "3. How to Develop a Baseline Model\n",
        "4. How to Develop an Improved Model\n",
        "5. How to Finalize the Model and Make Predictions\n",
        "\n",
        "Also submit the python code (PDF/HTML conversion of the .ipynb file if you are using Google Colaboratory as Jupyter notebook"
      ]
    },
    {
      "cell_type": "markdown",
      "metadata": {
        "id": "lo_YgO2CW4G3"
      },
      "source": [
        "**Development Environment**\n",
        "\n",
        "This tutorial assumes that you are using standalone Keras running on top of TensorFlow with Python 3. If you need help setting up your development environment see this tutorial:\n",
        "\n",
        "[How to Setup Your Python Environment for Machine Learning with Anaconda](https://machinelearningmastery.com/setup-python-environment-machine-learning-deep-learning-anaconda/)"
      ]
    },
    {
      "cell_type": "markdown",
      "metadata": {
        "id": "Q3S2qp7-FOav"
      },
      "source": [
        "**Import the proper libraries and packages**"
      ]
    },
    {
      "cell_type": "code",
      "metadata": {
        "id": "pCUVV5RN7smy"
      },
      "source": [
        "# import sys\n",
        "# import numpy as np\n",
        "# import pandas as pd\n",
        "# import scipy as sp\n",
        "# import sklearn as sk\n",
        "# import matplotlib.pyplot as plt # Could use: \"from matplotlib import pyplot\"\n",
        "\n",
        "# from pandas.plotting import scatter_matrix\n",
        "\n",
        "# from keras.datasets import mnist\n",
        "# from keras.utils import to_categorical\n",
        "# from keras.models import Sequential\n",
        "# from keras.layers import Conv2D\n",
        "# from keras.layers import MaxPooling2D\n",
        "# from keras.layers import Dense\n",
        "# from keras.layers import Flatten\n",
        "# from keras.optimizers import SGD\n",
        "\n",
        "# from sklearn.model_selection import KFold\n",
        "# from sklearn import neighbors, datasets, preprocessing\n",
        "# from sklearn.model_selection import train_test_split\n",
        "# from sklearn.metrics import accuracy_score \n",
        "# from sklearn.preprocessing import StandardScaler\n",
        "# from sklearn.preprocessing import Normalizer\n",
        "# from sklearn.preprocessing import Binarizer\n",
        "# from sklearn.linear_model import LinearRegression\n",
        "# from sklearn.svm import SVC\n",
        "# from sklearn.decomposition import PCA\n",
        "# from sklearn.preprocessing import LabelEncoder\n",
        "# from sklearn.preprocessing import PolynomialFeatures\n",
        "# from sklearn.metrics import mean_absolute_error\n",
        "# from sklearn.metrics import mean_squared_error\n",
        "# from sklearn.metrics import r2_score\n",
        "# from sklearn.metrics import adjusted_rand_score\n",
        "# from sklearn.metrics import homogeneity_score\n",
        "# from sklearn.metrics import v_measure_score\n",
        "# from sklearn.naive_bayes import GaussianNB\n",
        "# from sklearn.tree import DecisionTreeClassifier\n",
        "\n",
        "#The packages with \"##\"\" won't import for some reason\n",
        "## from sklearn.preprocessing import Imputer\n",
        "## from sklearn.cross_validation import cross_val_score\n",
        "## from sklearn.grid_search import GridSearchCV\n",
        "## from sklearn.grid_search import RandomizedSearchCV\n"
      ],
      "execution_count": 30,
      "outputs": []
    },
    {
      "cell_type": "markdown",
      "metadata": {
        "id": "xmleLaUm1JJh"
      },
      "source": [
        "**1. MNIST Handwritten Digit Classification Dataset**"
      ]
    },
    {
      "cell_type": "markdown",
      "metadata": {
        "id": "rjR8qdym0eAy"
      },
      "source": [
        "[The MNIST dataset](https://en.wikipedia.org/wiki/MNIST_database) is an acronym that stands for the Modified National Institute of Standards and Technology dataset.\n",
        "\n",
        "It is a dataset of 60,000 small square 28×28 pixel grayscale images of handwritten single digits between 0 and 9.\n",
        "\n",
        "The task is to classify a given image of a handwritten digit into one of 10 classes representing integer values from 0 to 9, inclusively.\n",
        "\n",
        "It is a widely used and deeply understood dataset and, for the most part, is “solved.” Top-performing models are deep learning convolutional neural networks that achieve a classification accuracy of above 99%, with an error rate between 0.4 %and 0.2% on the hold out test dataset.\n",
        "\n",
        "The example below loads the MNIST dataset using the Keras API and creates a plot of the first nine images in the training dataset."
      ]
    },
    {
      "cell_type": "markdown",
      "metadata": {
        "id": "1TSn4zUOX2o6"
      },
      "source": [
        "Running the example loads the MNIST train and test dataset and prints their shape.\n",
        "\n",
        "We can see that there are 60,000 examples in the training dataset and 10,000 in the test dataset and that images are indeed square with 28×28 pixels."
      ]
    },
    {
      "cell_type": "code",
      "metadata": {
        "id": "BOVs9ygqcwAp"
      },
      "source": [
        "Train: X=(60000, 28, 28), y=(60000,)Test: X=(10000, 28, 28), y=(10000,)"
      ],
      "execution_count": null,
      "outputs": []
    },
    {
      "cell_type": "markdown",
      "metadata": {
        "id": "By0UwNNkcySq"
      },
      "source": [
        "A plot of the first nine images in the dataset is also created showing the natural handwritten nature of the images to be classified."
      ]
    },
    {
      "cell_type": "code",
      "metadata": {
        "colab": {
          "base_uri": "https://localhost:8080/",
          "height": 303
        },
        "id": "iJOJ8-VW0tMd",
        "outputId": "c64b2ecd-70db-4157-ba2e-8cca6fe91480"
      },
      "source": [
        "# example of loading the mnist dataset\n",
        "from keras.datasets import mnist\n",
        "from matplotlib import pyplot\n",
        "# load dataset\n",
        "(trainX, trainy), (testX, testy) = mnist.load_data()\n",
        "# summarize loaded dataset\n",
        "print('Train: X=%s, y=%s' % (trainX.shape, trainy.shape))\n",
        "print('Test: X=%s, y=%s' % (testX.shape, testy.shape))\n",
        "# plot first few images\n",
        "for i in range(9):\n",
        "# define subplot\n",
        "  pyplot.subplot(330 + 1 + i)\n",
        "# plot raw pixel data\n",
        "  pyplot.imshow(trainX[i], cmap=pyplot.get_cmap('gray'))\n",
        "# show the figure\n",
        "pyplot.show()"
      ],
      "execution_count": 26,
      "outputs": [
        {
          "output_type": "stream",
          "text": [
            "Train: X=(60000, 28, 28), y=(60000,)\n",
            "Test: X=(10000, 28, 28), y=(10000,)\n"
          ],
          "name": "stdout"
        },
        {
          "output_type": "display_data",
          "data": {
            "image/png": "[encoded data removed]",
            "text/plain": [
              "<Figure size 432x288 with 9 Axes>"
            ]
          },
          "metadata": {
            "tags": [],
            "needs_background": "light"
          }
        }
      ]
    },
    {
      "cell_type": "markdown",
      "metadata": {
        "id": "G4lA1kcL2l8E"
      },
      "source": [
        "**2. Model Evaluation Methodology**\n"
      ]
    },
    {
      "cell_type": "markdown",
      "metadata": {
        "id": "F4SErnZz3_zo"
      },
      "source": [
        "Although the MNIST dataset is effectively solved, it can be a useful starting point for developing and practicing a methodology for solving image classification tasks using convolutional neural networks.\n",
        "\n",
        "Instead of reviewing the literature on well-performing models on the dataset, we can develop a new model from scratch.\n",
        "\n",
        "The dataset already has a well-defined train and test dataset that we can use.\n",
        "\n",
        "In order to estimate the performance of a model for a given training run, we can further split the training set into a train and validation dataset. Performance on the train and validation dataset over each run can then be plotted to provide learning curves and insight into how well a model is learning the problem.\n",
        "\n",
        "The Keras API supports this by specifying the “validation_data” argument to the model.fit() function when training the model, that will, in turn, return an object that describes model performance for the chosen loss and metrics on each training epoch."
      ]
    },
    {
      "cell_type": "code",
      "metadata": {
        "id": "3cjehZGbY74L"
      },
      "source": [
        "# record model performance on a validation dataset during training</br>\n",
        "history = model.fit(..., validation_data=(valX, valY))"
      ],
      "execution_count": null,
      "outputs": []
    },
    {
      "cell_type": "markdown",
      "metadata": {
        "id": "bEe9SAKWY-PV"
      },
      "source": [
        "In order to estimate the performance of a model on the problem in general, we can use [k-fold cross-validation](https://machinelearningmastery.com/k-fold-cross-validation/), perhaps five-fold cross-validation. \n",
        "\n",
        "This will give some account of the models variance with both respect to differences in the training and test datasets, and in terms of the stochastic nature of the learning algorithm. The performance of a model can be taken as the mean performance across k-folds, given the standard deviation, that could be used to estimate a confidence interval if desired.\n",
        "\n",
        "We can use the [KFold class](https://scikit-learn.org/stable/modules/generated/sklearn.model_selection.KFold.html) from the scikit-learn API to implement the k-fold cross-validation evaluation of a given neural network model. There are many ways to achieve this, although we can choose a flexible approach where the KFold class is only used to specify the row indexes used for each spit."
      ]
    },
    {
      "cell_type": "code",
      "metadata": {
        "id": "A2wLOzq5DEZn"
      },
      "source": [
        "# example of k-fold cv for a neural net\n",
        "data = ...\n",
        "# prepare cross validation\n",
        "kfold = KFold(5, shuffle=True, random_state=1)\n",
        "# enumerate splits\n",
        "for train_ix, test_ix in kfold.split(data):\n",
        "  model = ..."
      ],
      "execution_count": null,
      "outputs": []
    },
    {
      "cell_type": "markdown",
      "metadata": {
        "id": "z-nXoE0-BCYM"
      },
      "source": [
        "**3. How to Develop a Baseline Model**<br>\n"
      ]
    },
    {
      "cell_type": "markdown",
      "metadata": {
        "id": "V8uUQVNwZPAN"
      },
      "source": [
        "The first step is to develop a baseline model.\n",
        "\n",
        "This is critical as it both involves developing the infrastructure for the test harness so that any model we design can be evaluated on the dataset, and it establishes a baseline in model performance on the problem, by which all improvements can be compared.\n",
        "\n",
        "The design of the test harness is modular, and we can develop a separate function for each piece. This allows a given aspect of the test harness to be modified or inter-changed, if we desire, separately from the rest.\n",
        "\n",
        "We can develop this test harness with five key elements. They are the loading of the dataset, the preparation of the dataset, the definition of the model, the evaluation of the model, and the presentation of results."
      ]
    },
    {
      "cell_type": "markdown",
      "metadata": {
        "id": "jVkGabkSFIDH"
      },
      "source": [
        "**Load Dataset**"
      ]
    },
    {
      "cell_type": "markdown",
      "metadata": {
        "id": "0vWev8DoCxLw"
      },
      "source": [
        "We know some things about the dataset. For example, we know that the images are all pre-aligned (e.g. each image only contains a hand-drawn digit), that the images all have the same square size of 28×28 pixels, and that the images are grayscale. Therefore, we can load the images and reshape the data arrays to have a single color channel."
      ]
    },
    {
      "cell_type": "code",
      "metadata": {
        "id": "smGQ8wDYDJsN"
      },
      "source": [
        "# load dataset\n",
        "(trainX, trainY), (testX, testY) = mnist.load_data()\n",
        "# reshape dataset to have a single channel\n",
        "trainX = trainX.reshape((trainX.shape[0], 28, 28, 1))\n",
        "testX = testX.reshape((testX.shape[0], 28, 28, 1))"
      ],
      "execution_count": null,
      "outputs": []
    },
    {
      "cell_type": "markdown",
      "metadata": {
        "id": "jgCxO3I9DUNV"
      },
      "source": [
        "We also know that there are 10 classes and that classes are represented as unique integers.</br>\n",
        "We can, therefore, use a one hot encoding for the class element of each sample, transforming the integer into a 10 element binary vector with a 1 for the index of the class value, and 0 values for all other classes. We can achieve this with the to_categorical() utility function."
      ]
    },
    {
      "cell_type": "code",
      "metadata": {
        "id": "ZjQhGYl1Dzyr"
      },
      "source": [
        "# one hot encode target values\n",
        "trainY = to_categorical(trainY)\n",
        "testY = to_categorical(testY)\n"
      ],
      "execution_count": null,
      "outputs": []
    },
    {
      "cell_type": "markdown",
      "metadata": {
        "id": "KMH3wfBqD4f2"
      },
      "source": [
        "The load_dataset() function implements these behaviors and can be used to load the dataset.\n"
      ]
    },
    {
      "cell_type": "code",
      "metadata": {
        "id": "7sfJgq-9EAmj"
      },
      "source": [
        "# load train and test dataset\n",
        "def load_dataset():\n",
        "\t# load dataset\n",
        "\t(trainX, trainY), (testX, testY) = mnist.load_data()\n",
        "\t# reshape dataset to have a single channel\n",
        "\ttrainX = trainX.reshape((trainX.shape[0], 28, 28, 1))\n",
        "\ttestX = testX.reshape((testX.shape[0], 28, 28, 1))\n",
        "\t# one hot encode target values\n",
        "\ttrainY = to_categorical(trainY)\n",
        "\ttestY = to_categorical(testY)\n",
        "\treturn trainX, trainY, testX, testY"
      ],
      "execution_count": null,
      "outputs": []
    },
    {
      "cell_type": "markdown",
      "metadata": {
        "id": "P7FYbEqiEOI0"
      },
      "source": [
        "**Prepare Pixel Data**"
      ]
    },
    {
      "cell_type": "markdown",
      "metadata": {
        "id": "iOvuWe6hERPn"
      },
      "source": [
        "We know that the pixel values for each image in the dataset are unsigned integers in the range between black and white, or 0 and 255.\n",
        "\n",
        "We do not know the best way to scale the pixel values for modeling, but we know that some scaling will be required.\n",
        "\n",
        "A good starting point is to [normalize the pixel values](https://machinelearningmastery.com/how-to-normalize-center-and-standardize-images-with-the-imagedatagenerator-in-keras/) of grayscale images, e.g. rescale them to the range [0,1]. This involves first converting the data type from unsigned integers to floats, then dividing the pixel values by the maximum value"
      ]
    },
    {
      "cell_type": "code",
      "metadata": {
        "id": "Yjrz52qJEcHw"
      },
      "source": [
        "# convert from integers to floats\n",
        "train_norm = train.astype('float32')\n",
        "test_norm = test.astype('float32')\n",
        "# normalize to range 0-1\n",
        "train_norm = train_norm / 255.0\n",
        "test_norm = test_norm / 255.0"
      ],
      "execution_count": null,
      "outputs": []
    },
    {
      "cell_type": "markdown",
      "metadata": {
        "id": "jvaTFuqeHDp6"
      },
      "source": [
        "The prep_pixels() function below implements these behaviors and is provided with the pixel values for both the train and test datasets that will need to be scaled. **This function must be called to prepare the pixel values prior to any modeling.**"
      ]
    },
    {
      "cell_type": "code",
      "metadata": {
        "id": "O_LKi6n8HI2Q"
      },
      "source": [
        "# scale pixels\n",
        "def prep_pixels(train, test):\n",
        "\t# convert from integers to floats\n",
        "\ttrain_norm = train.astype('float32')\n",
        "\ttest_norm = test.astype('float32')\n",
        "\t# normalize to range 0-1\n",
        "\ttrain_norm = train_norm / 255.0\n",
        "\ttest_norm = test_norm / 255.0\n",
        "\t# return normalized images\n",
        "\treturn train_norm, test_norm"
      ],
      "execution_count": null,
      "outputs": []
    },
    {
      "cell_type": "markdown",
      "metadata": {
        "id": "YPYNQ5VKHXAy"
      },
      "source": [
        "**Define Model**"
      ]
    },
    {
      "cell_type": "markdown",
      "metadata": {
        "id": "ybinLbM2HdCY"
      },
      "source": [
        "Next, we need to define a baseline convolutional neural network model for the problem.\n",
        "\n",
        "The model has two main aspects: the feature extraction front end comprised of convolutional and pooling layers, and the classifier backend that will make a prediction.\n",
        "\n",
        "For the convolutional front-end, we can start with a single [convolutional layer](https://machinelearningmastery.com/convolutional-layers-for-deep-learning-neural-networks/) with a small filter size (3,3) and a modest number of filters (32) followed by a [max pooling layer](https://machinelearningmastery.com/pooling-layers-for-convolutional-neural-networks/). The filter maps can then be flattened to provide features to the classifier.\n",
        "\n",
        "Given that the problem is a multi-class classification task, we know that we will require an output layer with 10 nodes in order to predict the probability distribution of an image belonging to each of the 10 classes. This will also require the use of a softmax activation function. Between the feature extractor and the output layer, we can add a dense layer to interpret the features, in this case with 100 nodes.\n",
        "\n",
        "All layers will use the [ReLU activation function](https://machinelearningmastery.com/rectified-linear-activation-function-for-deep-learning-neural-networks/)  and the He weight initialization scheme, both best practices.\n",
        "\n",
        "We will use a conservative configuration for the stochastic gradient descent optimizer with a [learning rate](https://machinelearningmastery.com/understand-the-dynamics-of-learning-rate-on-deep-learning-neural-networks/) of 0.01 and a momentum of 0.9. The [categorical cross-entropy](https://machinelearningmastery.com/cross-entropy-for-machine-learning/) loss function will be optimized, suitable for multi-class classification, and we will monitor the classification accuracy metric, which is appropriate given we have the same number of examples in each of the 10 classes.\n",
        "\n",
        "The define_model() function below will define and return this model."
      ]
    },
    {
      "cell_type": "code",
      "metadata": {
        "id": "N6Cloi8WHlrS"
      },
      "source": [
        "# define cnn model\n",
        "def define_model():\n",
        "\tmodel = Sequential()\n",
        "\tmodel.add(Conv2D(32, (3, 3), activation='relu', kernel_initializer='he_uniform', input_shape=(28, 28, 1)))\n",
        "\tmodel.add(MaxPooling2D((2, 2)))\n",
        "\tmodel.add(Flatten())\n",
        "\tmodel.add(Dense(100, activation='relu', kernel_initializer='he_uniform'))\n",
        "\tmodel.add(Dense(10, activation='softmax'))\n",
        "\t# compile model\n",
        "\topt = SGD(lr=0.01, momentum=0.9)\n",
        "\tmodel.compile(optimizer=opt, loss='categorical_crossentropy', metrics=['accuracy'])\n",
        "\treturn model"
      ],
      "execution_count": null,
      "outputs": []
    },
    {
      "cell_type": "markdown",
      "metadata": {
        "id": "XCjpM15KHsAA"
      },
      "source": [
        "**Evaluate Model**"
      ]
    },
    {
      "cell_type": "markdown",
      "metadata": {
        "id": "K5kS07NxHvxc"
      },
      "source": [
        "After the model is defined, we need to evaluate it.\n",
        "\n",
        "The model will be evaluated using [five-fold cross-validation](https://machinelearningmastery.com/k-fold-cross-validation/). The value of k=5 was chosen to provide a baseline for both repeated evaluation and to not be so large as to require a long running time. Each test set will be 20% of the training dataset, or about 12,000 examples, close to the size of the actual test set for this problem.\n",
        "\n",
        "The training dataset is shuffled prior to being split, and the sample shuffling is performed each time, so that any model we evaluate will have the same train and test datasets in each fold, providing an apples-to-apples comparison between models.\n",
        "\n",
        "We will train the baseline model for a modest 10 training epochs with a default batch size of 32 examples. The test set for each fold will be used to evaluate the model both during each epoch of the training run, so that we can later create learning curves, and at the end of the run, so that we can estimate the performance of the model. As such, we will keep track of the resulting history from each run, as well as the classification accuracy of the fold.\n",
        "\n",
        "The evaluate_model() function below implements these behaviors, taking the training dataset as arguments and returning a list of accuracy scores and training histories that can be later summarized.\n"
      ]
    },
    {
      "cell_type": "code",
      "metadata": {
        "id": "wKTNJI8TH5Tc"
      },
      "source": [
        "# evaluate a model using k-fold cross-validation\n",
        "def evaluate_model(dataX, dataY, n_folds=5):\n",
        "\tscores, histories = list(), list()\n",
        "\t# prepare cross validation\n",
        "\tkfold = KFold(n_folds, shuffle=True, random_state=1)\n",
        "\t# enumerate splits\n",
        "\tfor train_ix, test_ix in kfold.split(dataX):\n",
        "\t\t# define model\n",
        "\t\tmodel = define_model()\n",
        "\t\t# select rows for train and test\n",
        "\t\ttrainX, trainY, testX, testY = dataX[train_ix], dataY[train_ix], dataX[test_ix], dataY[test_ix]\n",
        "\t\t# fit model\n",
        "\t\thistory = model.fit(trainX, trainY, epochs=10, batch_size=32, validation_data=(testX, testY), verbose=0)\n",
        "\t\t# evaluate model\n",
        "\t\t_, acc = model.evaluate(testX, testY, verbose=0)\n",
        "\t\tprint('> %.3f' % (acc * 100.0))\n",
        "\t\t# stores scores\n",
        "\t\tscores.append(acc)\n",
        "\t\thistories.append(history)\n",
        "\treturn scores, histories"
      ],
      "execution_count": null,
      "outputs": []
    },
    {
      "cell_type": "markdown",
      "metadata": {
        "id": "hAZY-eVjH64X"
      },
      "source": [
        "**Present Results**"
      ]
    },
    {
      "cell_type": "markdown",
      "metadata": {
        "id": "CyqwmefsIDGd"
      },
      "source": [
        "Once the model has been evaluated, we can present the results.\n",
        "\n",
        "There are two key aspects to present: the diagnostics of the learning behavior of the model during training and the estimation of the model performance. These can be implemented using separate functions.\n",
        "\n",
        "First, the diagnostics involve creating a line plot showing model performance on the train and test set during each fold of the k-fold cross-validation. These plots are valuable for getting an idea of whether a model is overfitting, underfitting, or has a good fit for the dataset.\n",
        "\n",
        "We will create a single figure with two subplots, one for loss and one for accuracy. Blue lines will indicate model performance on the training dataset and orange lines will indicate performance on the hold out test dataset. The summarize_diagnostics() function below creates and shows this plot given the collected training histories."
      ]
    },
    {
      "cell_type": "code",
      "metadata": {
        "id": "ooiObRzUIHAq"
      },
      "source": [
        "# plot diagnostic learning curves\n",
        "def summarize_diagnostics(histories):\n",
        "\tfor i in range(len(histories)):\n",
        "\t\t# plot loss\n",
        "\t\tpyplot.subplot(2, 1, 1)\n",
        "\t\tpyplot.title('Cross Entropy Loss')\n",
        "\t\tpyplot.plot(histories[i].history['loss'], color='blue', label='train')\n",
        "\t\tpyplot.plot(histories[i].history['val_loss'], color='orange', label='test')\n",
        "\t\t# plot accuracy\n",
        "\t\tpyplot.subplot(2, 1, 2)\n",
        "\t\tpyplot.title('Classification Accuracy')\n",
        "\t\tpyplot.plot(histories[i].history['accuracy'], color='blue', label='train')\n",
        "\t\tpyplot.plot(histories[i].history['val_accuracy'], color='orange', label='test')\n",
        "\tpyplot.show()"
      ],
      "execution_count": null,
      "outputs": []
    },
    {
      "cell_type": "markdown",
      "metadata": {
        "id": "uBvFVm0OILJJ"
      },
      "source": [
        "Next, the classification accuracy scores collected during each fold can be summarized by calculating the mean and standard deviation. This provides an estimate of the average expected performance of the model trained on this dataset, with an estimate of the average variance in the mean. We will also summarize the distribution of scores by creating and showing a box and whisker plot.\n",
        "\n",
        "The summarize_performance() function below implements this for a given list of scores collected during model evaluation."
      ]
    },
    {
      "cell_type": "code",
      "metadata": {
        "id": "AytNphesIYcx"
      },
      "source": [
        "# summarize model performance\n",
        "def summarize_performance(scores):\n",
        "\t# print summary\n",
        "\tprint('Accuracy: mean=%.3f std=%.3f, n=%d' % (mean(scores)*100, std(scores)*100, len(scores)))\n",
        "\t# box and whisker plots of results\n",
        "\tpyplot.boxplot(scores)\n",
        "\tpyplot.show()"
      ],
      "execution_count": null,
      "outputs": []
    },
    {
      "cell_type": "markdown",
      "metadata": {
        "id": "90iisNuiIeaB"
      },
      "source": [
        "**Complete Example**"
      ]
    },
    {
      "cell_type": "markdown",
      "metadata": {
        "id": "sKsoAowVInq1"
      },
      "source": [
        "We need a function that will drive the test harness. This involves calling all of the define functions."
      ]
    },
    {
      "cell_type": "code",
      "metadata": {
        "id": "0F1ZEbPSIuPf"
      },
      "source": [
        "# run the test harness for evaluating a model\n",
        "def run_test_harness():\n",
        "\t# load dataset\n",
        "\ttrainX, trainY, testX, testY = load_dataset()\n",
        "\t# prepare pixel data\n",
        "\ttrainX, testX = prep_pixels(trainX, testX)\n",
        "\t# evaluate model\n",
        "\tscores, histories = evaluate_model(trainX, trainY)\n",
        "\t# learning curves\n",
        "\tsummarize_diagnostics(histories)\n",
        "\t# summarize estimated performance\n",
        "\tsummarize_performance(scores)"
      ],
      "execution_count": null,
      "outputs": []
    },
    {
      "cell_type": "markdown",
      "metadata": {
        "id": "NHdqTGUMIzca"
      },
      "source": [
        "We now have everything we need; the complete code example for a baseline convolutional neural network model on the MNIST dataset is listed below."
      ]
    },
    {
      "cell_type": "code",
      "metadata": {
        "id": "fPSRiBR8I3ln"
      },
      "source": [
        "# baseline cnn model for mnist\n",
        "from numpy import mean\n",
        "from numpy import std\n",
        "from matplotlib import pyplot\n",
        "from sklearn.model_selection import KFold\n",
        "from keras.datasets import mnist\n",
        "from keras.utils import to_categorical\n",
        "from keras.models import Sequential\n",
        "from keras.layers import Conv2D\n",
        "from keras.layers import MaxPooling2D\n",
        "from keras.layers import Dense\n",
        "from keras.layers import Flatten\n",
        "from keras.optimizers import SGD\n",
        " \n",
        "# load train and test dataset\n",
        "def load_dataset():\n",
        "\t# load dataset\n",
        "\t(trainX, trainY), (testX, testY) = mnist.load_data()\n",
        "\t# reshape dataset to have a single channel\n",
        "\ttrainX = trainX.reshape((trainX.shape[0], 28, 28, 1))\n",
        "\ttestX = testX.reshape((testX.shape[0], 28, 28, 1))\n",
        "\t# one hot encode target values\n",
        "\ttrainY = to_categorical(trainY)\n",
        "\ttestY = to_categorical(testY)\n",
        "\treturn trainX, trainY, testX, testY\n",
        " \n",
        "# scale pixels\n",
        "def prep_pixels(train, test):\n",
        "\t# convert from integers to floats\n",
        "\ttrain_norm = train.astype('float32')\n",
        "\ttest_norm = test.astype('float32')\n",
        "\t# normalize to range 0-1\n",
        "\ttrain_norm = train_norm / 255.0\n",
        "\ttest_norm = test_norm / 255.0\n",
        "\t# return normalized images\n",
        "\treturn train_norm, test_norm\n",
        " \n",
        "# define cnn model\n",
        "def define_model():\n",
        "\tmodel = Sequential()\n",
        "\tmodel.add(Conv2D(32, (3, 3), activation='relu', kernel_initializer='he_uniform', input_shape=(28, 28, 1)))\n",
        "\tmodel.add(MaxPooling2D((2, 2)))\n",
        "\tmodel.add(Flatten())\n",
        "\tmodel.add(Dense(100, activation='relu', kernel_initializer='he_uniform'))\n",
        "\tmodel.add(Dense(10, activation='softmax'))\n",
        "\t# compile model\n",
        "\topt = SGD(lr=0.01, momentum=0.9)\n",
        "\tmodel.compile(optimizer=opt, loss='categorical_crossentropy', metrics=['accuracy'])\n",
        "\treturn model\n",
        " \n",
        "# evaluate a model using k-fold cross-validation\n",
        "def evaluate_model(dataX, dataY, n_folds=5):\n",
        "\tscores, histories = list(), list()\n",
        "\t# prepare cross validation\n",
        "\tkfold = KFold(n_folds, shuffle=True, random_state=1)\n",
        "\t# enumerate splits\n",
        "\tfor train_ix, test_ix in kfold.split(dataX):\n",
        "\t\t# define model\n",
        "\t\tmodel = define_model()\n",
        "\t\t# select rows for train and test\n",
        "\t\ttrainX, trainY, testX, testY = dataX[train_ix], dataY[train_ix], dataX[test_ix], dataY[test_ix]\n",
        "\t\t# fit model\n",
        "\t\thistory = model.fit(trainX, trainY, epochs=10, batch_size=32, validation_data=(testX, testY), verbose=0)\n",
        "\t\t# evaluate model\n",
        "\t\t_, acc = model.evaluate(testX, testY, verbose=0)\n",
        "\t\tprint('> %.3f' % (acc * 100.0))\n",
        "\t\t# stores scores\n",
        "\t\tscores.append(acc)\n",
        "\t\thistories.append(history)\n",
        "\treturn scores, histories\n",
        " \n",
        "# plot diagnostic learning curves\n",
        "def summarize_diagnostics(histories):\n",
        "\tfor i in range(len(histories)):\n",
        "\t\t# plot loss\n",
        "\t\tpyplot.subplot(2, 1, 1)\n",
        "\t\tpyplot.title('Cross Entropy Loss')\n",
        "\t\tpyplot.plot(histories[i].history['loss'], color='blue', label='train')\n",
        "\t\tpyplot.plot(histories[i].history['val_loss'], color='orange', label='test')\n",
        "\t\t# plot accuracy\n",
        "\t\tpyplot.subplot(2, 1, 2)\n",
        "\t\tpyplot.title('Classification Accuracy')\n",
        "\t\tpyplot.plot(histories[i].history['accuracy'], color='blue', label='train')\n",
        "\t\tpyplot.plot(histories[i].history['val_accuracy'], color='orange', label='test')\n",
        "\tpyplot.show()\n",
        " \n",
        "# summarize model performance\n",
        "def summarize_performance(scores):\n",
        "\t# print summary\n",
        "\tprint('Accuracy: mean=%.3f std=%.3f, n=%d' % (mean(scores)*100, std(scores)*100, len(scores)))\n",
        "\t# box and whisker plots of results\n",
        "\tpyplot.boxplot(scores)\n",
        "\tpyplot.show()\n",
        " \n",
        "# run the test harness for evaluating a model\n",
        "def run_test_harness():\n",
        "\t# load dataset\n",
        "\ttrainX, trainY, testX, testY = load_dataset()\n",
        "\t# prepare pixel data\n",
        "\ttrainX, testX = prep_pixels(trainX, testX)\n",
        "\t# evaluate model\n",
        "\tscores, histories = evaluate_model(trainX, trainY)\n",
        "\t# learning curves\n",
        "\tsummarize_diagnostics(histories)\n",
        "\t# summarize estimated performance\n",
        "\tsummarize_performance(scores)\n",
        " \n",
        "# entry point, run the test harness\n",
        "run_test_harness()"
      ],
      "execution_count": null,
      "outputs": []
    },
    {
      "cell_type": "markdown",
      "metadata": {
        "id": "2Txa10OjI_hS"
      },
      "source": [
        "Running the example prints the classification accuracy for each fold of the cross-validation process. This is helpful to get an idea that the model evaluation is progressing.\n",
        "\n",
        "Note: [Your results may vary](https://machinelearningmastery.com/different-results-each-time-in-machine-learning/) given the stochastic nature of the algorithm or evaluation procedure, or differences in numerical precision. Consider running the example a few times and compare the average outcome.\n",
        "\n",
        "We can see two cases where the model achieves perfect skill and one case where it achieved lower than 98% accuracy. These are good results."
      ]
    },
    {
      "cell_type": "markdown",
      "metadata": {
        "id": "Uri8DV_aJlEp"
      },
      "source": [
        "1 > 98.550</br>\n",
        "2 > 98.600</br>\n",
        "3 > 98.642</br>\n",
        "4 > 98.850</br>\n",
        "5 > 98.742"
      ]
    },
    {
      "cell_type": "markdown",
      "metadata": {
        "id": "BxFODXlFJK0m"
      },
      "source": [
        "**Next, a diagnostic plot is shown**, giving insight into the learning behavior of the model across each fold.\n",
        "\n",
        "In this case, we can see that the model generally achieves a good fit, with train and test learning curves converging. There is no obvious sign of over- or underfitting.\n",
        "\n",
        "**Plot should be in the next cell**"
      ]
    },
    {
      "cell_type": "markdown",
      "metadata": {
        "id": "CuxILYUSJRkl"
      },
      "source": [
        "Next, a summary of the model performance is calculated. We can see in this case, the model has an estimated skill of about 98.6%, which is reasonable.</br>\n",
        "\n",
        "**Accuracy: mean=98.677 std=0.107, n=5**"
      ]
    },
    {
      "cell_type": "markdown",
      "metadata": {
        "id": "WvgcMHM4KLvD"
      },
      "source": [
        "Finally, a box and whisker plot is created to summarize the distribution of accuracy scores. We now have a robust test harness and a well-performing baseline model."
      ]
    },
    {
      "cell_type": "markdown",
      "metadata": {
        "id": "obSgLHvFKtr4"
      },
      "source": [
        "**4. How to Develop an Improved Model**"
      ]
    },
    {
      "cell_type": "markdown",
      "metadata": {
        "id": "c9oyEIXSMEVT"
      },
      "source": [
        "There are many ways that we might explore improvements to the baseline model. We will look at areas of model configuration that often result in an improvement, so-called low-hanging fruit. The first is a change to the learning algorithm, and the second is an increase in the depth of the model."
      ]
    },
    {
      "cell_type": "markdown",
      "metadata": {
        "id": "ochjIPEvMLKK"
      },
      "source": [
        "**Improvement to Learning**"
      ]
    },
    {
      "cell_type": "markdown",
      "metadata": {
        "id": "JOPke1CyMVXH"
      },
      "source": [
        "There are many aspects of the learning algorithm that can be explored for improvement.\n",
        "\n",
        "Perhaps the point of biggest leverage is the learning rate, such as evaluating the impact that smaller or larger values of the learning rate may have, as well as schedules that change the learning rate during training.\n",
        "\n",
        "Another approach that can rapidly accelerate the learning of a model and can result in large performance improvements is batch normalization. We will evaluate the effect that batch normalization has on our baseline model.\n",
        "\n",
        "[Batch normalization](https://machinelearningmastery.com/how-to-accelerate-learning-of-deep-neural-networks-with-batch-normalization/) can be used after convolutional and fully connected layers. It has the effect of changing the distribution of the output of the layer, specifically by standardizing the outputs. This has the effect of stabilizing and accelerating the learning process.\n",
        "\n",
        "We can update the model definition to use batch normalization after the activation function for the convolutional and dense layers of our baseline model. The updated version of define_model() function with batch normalization is listed below."
      ]
    },
    {
      "cell_type": "code",
      "metadata": {
        "id": "uxe528IzMlH3"
      },
      "source": [
        "# define cnn model\n",
        "def define_model():\n",
        "\tmodel = Sequential()\n",
        "\tmodel.add(Conv2D(32, (3, 3), activation='relu', kernel_initializer='he_uniform', input_shape=(28, 28, 1)))\n",
        "\tmodel.add(BatchNormalization())\n",
        "\tmodel.add(MaxPooling2D((2, 2)))\n",
        "\tmodel.add(Flatten())\n",
        "\tmodel.add(Dense(100, activation='relu', kernel_initializer='he_uniform'))\n",
        "\tmodel.add(BatchNormalization())\n",
        "\tmodel.add(Dense(10, activation='softmax'))\n",
        "\t# compile model\n",
        "\topt = SGD(lr=0.01, momentum=0.9)\n",
        "\tmodel.compile(optimizer=opt, loss='categorical_crossentropy', metrics=['accuracy'])\n",
        "\treturn model"
      ],
      "execution_count": null,
      "outputs": []
    },
    {
      "cell_type": "markdown",
      "metadata": {
        "id": "LZcaZR8lMrbG"
      },
      "source": [
        "The complete code listing with this change is provided below."
      ]
    },
    {
      "cell_type": "code",
      "metadata": {
        "id": "6LgJ5X1wMy4u"
      },
      "source": [
        "# cnn model with batch normalization for mnist\n",
        "from numpy import mean\n",
        "from numpy import std\n",
        "from matplotlib import pyplot\n",
        "from sklearn.model_selection import KFold\n",
        "from keras.datasets import mnist\n",
        "from keras.utils import to_categorical\n",
        "from keras.models import Sequential\n",
        "from keras.layers import Conv2D\n",
        "from keras.layers import MaxPooling2D\n",
        "from keras.layers import Dense\n",
        "from keras.layers import Flatten\n",
        "from keras.optimizers import SGD\n",
        "from keras.layers import BatchNormalization\n",
        " \n",
        "# load train and test dataset\n",
        "def load_dataset():\n",
        "\t# load dataset\n",
        "\t(trainX, trainY), (testX, testY) = mnist.load_data()\n",
        "\t# reshape dataset to have a single channel\n",
        "\ttrainX = trainX.reshape((trainX.shape[0], 28, 28, 1))\n",
        "\ttestX = testX.reshape((testX.shape[0], 28, 28, 1))\n",
        "\t# one hot encode target values\n",
        "\ttrainY = to_categorical(trainY)\n",
        "\ttestY = to_categorical(testY)\n",
        "\treturn trainX, trainY, testX, testY\n",
        " \n",
        "# scale pixels\n",
        "def prep_pixels(train, test):\n",
        "\t# convert from integers to floats\n",
        "\ttrain_norm = train.astype('float32')\n",
        "\ttest_norm = test.astype('float32')\n",
        "\t# normalize to range 0-1\n",
        "\ttrain_norm = train_norm / 255.0\n",
        "\ttest_norm = test_norm / 255.0\n",
        "\t# return normalized images\n",
        "\treturn train_norm, test_norm\n",
        " \n",
        "# define cnn model\n",
        "def define_model():\n",
        "\tmodel = Sequential()\n",
        "\tmodel.add(Conv2D(32, (3, 3), activation='relu', kernel_initializer='he_uniform', input_shape=(28, 28, 1)))\n",
        "\tmodel.add(BatchNormalization())\n",
        "\tmodel.add(MaxPooling2D((2, 2)))\n",
        "\tmodel.add(Flatten())\n",
        "\tmodel.add(Dense(100, activation='relu', kernel_initializer='he_uniform'))\n",
        "\tmodel.add(BatchNormalization())\n",
        "\tmodel.add(Dense(10, activation='softmax'))\n",
        "\t# compile model\n",
        "\topt = SGD(lr=0.01, momentum=0.9)\n",
        "\tmodel.compile(optimizer=opt, loss='categorical_crossentropy', metrics=['accuracy'])\n",
        "\treturn model\n",
        " \n",
        "# evaluate a model using k-fold cross-validation\n",
        "def evaluate_model(dataX, dataY, n_folds=5):\n",
        "\tscores, histories = list(), list()\n",
        "\t# prepare cross validation\n",
        "\tkfold = KFold(n_folds, shuffle=True, random_state=1)\n",
        "\t# enumerate splits\n",
        "\tfor train_ix, test_ix in kfold.split(dataX):\n",
        "\t\t# define model\n",
        "\t\tmodel = define_model()\n",
        "\t\t# select rows for train and test\n",
        "\t\ttrainX, trainY, testX, testY = dataX[train_ix], dataY[train_ix], dataX[test_ix], dataY[test_ix]\n",
        "\t\t# fit model\n",
        "\t\thistory = model.fit(trainX, trainY, epochs=10, batch_size=32, validation_data=(testX, testY), verbose=0)\n",
        "\t\t# evaluate model\n",
        "\t\t_, acc = model.evaluate(testX, testY, verbose=0)\n",
        "\t\tprint('> %.3f' % (acc * 100.0))\n",
        "\t\t# stores scores\n",
        "\t\tscores.append(acc)\n",
        "\t\thistories.append(history)\n",
        "\treturn scores, histories\n",
        " \n",
        "# plot diagnostic learning curves\n",
        "def summarize_diagnostics(histories):\n",
        "\tfor i in range(len(histories)):\n",
        "\t\t# plot loss\n",
        "\t\tpyplot.subplot(2, 1, 1)\n",
        "\t\tpyplot.title('Cross Entropy Loss')\n",
        "\t\tpyplot.plot(histories[i].history['loss'], color='blue', label='train')\n",
        "\t\tpyplot.plot(histories[i].history['val_loss'], color='orange', label='test')\n",
        "\t\t# plot accuracy\n",
        "\t\tpyplot.subplot(2, 1, 2)\n",
        "\t\tpyplot.title('Classification Accuracy')\n",
        "\t\tpyplot.plot(histories[i].history['accuracy'], color='blue', label='train')\n",
        "\t\tpyplot.plot(histories[i].history['val_accuracy'], color='orange', label='test')\n",
        "\tpyplot.show()\n",
        " \n",
        "# summarize model performance\n",
        "def summarize_performance(scores):\n",
        "\t# print summary\n",
        "\tprint('Accuracy: mean=%.3f std=%.3f, n=%d' % (mean(scores)*100, std(scores)*100, len(scores)))\n",
        "\t# box and whisker plots of results\n",
        "\tpyplot.boxplot(scores)\n",
        "\tpyplot.show()\n",
        " \n",
        "# run the test harness for evaluating a model\n",
        "def run_test_harness():\n",
        "\t# load dataset\n",
        "\ttrainX, trainY, testX, testY = load_dataset()\n",
        "\t# prepare pixel data\n",
        "\ttrainX, testX = prep_pixels(trainX, testX)\n",
        "\t# evaluate model\n",
        "\tscores, histories = evaluate_model(trainX, trainY)\n",
        "\t# learning curves\n",
        "\tsummarize_diagnostics(histories)\n",
        "\t# summarize estimated performance\n",
        "\tsummarize_performance(scores)\n",
        " \n",
        "# entry point, run the test harness\n",
        "run_test_harness()"
      ],
      "execution_count": null,
      "outputs": []
    },
    {
      "cell_type": "markdown",
      "metadata": {
        "id": "B1sSOYlKM4ix"
      },
      "source": [
        "Running the example again reports model performance for each fold of the cross-validation process.\n",
        "\n",
        "**Note:** [Your results may vary](https://machinelearningmastery.com/different-results-each-time-in-machine-learning/) given the stochastic nature of the algorithm or evaluation procedure, or differences in numerical precision. Consider running the example a few times and compare the average outcome.\n",
        "\n",
        "We can see perhaps a small drop in model performance as compared to the baseline across the cross-validation folds."
      ]
    },
    {
      "cell_type": "markdown",
      "metadata": {
        "id": "eDBAdt6SNIiW"
      },
      "source": [
        "> 98.475</br>\n",
        "> 98.608</br>\n",
        "> 98.683</br>\n",
        "> 98.783</br>\n",
        "> 98.667"
      ]
    },
    {
      "cell_type": "markdown",
      "metadata": {
        "id": "Oz-gITaNNLv1"
      },
      "source": [
        "**A plot of the learning curves is created**, in this case showing that the speed of learning (improvement over epochs) does not appear to be different from the baseline model.\n",
        "\n",
        "The plots suggest that batch normalization, at least as implemented in this case, does not offer any benefit.\n",
        "\n",
        "**Plot should be below this cell**"
      ]
    },
    {
      "cell_type": "markdown",
      "metadata": {
        "id": "2HbTvydeNfL7"
      },
      "source": [
        "Next, the estimated performance of the model is presented, showing performance with a slight decrease in the mean accuracy of the model: 98.643 as compared to 98.677 with the baseline model.\n",
        "\n",
        "**Accuracy: mean=98.643 std=0.101, n=5**"
      ]
    },
    {
      "cell_type": "markdown",
      "metadata": {
        "id": "U92IMcEJOOXo"
      },
      "source": [
        "**Increase Model Depth**"
      ]
    },
    {
      "cell_type": "markdown",
      "metadata": {
        "id": "ECbdulAYOTxd"
      },
      "source": [
        "There are many ways to change the model configuration in order to explore improvements over the baseline model.\n",
        "\n",
        "Two common approaches involve changing the [capacity](https://machinelearningmastery.com/how-to-control-neural-network-model-capacity-with-nodes-and-layers/)of the feature extraction part of the model or changing the capacity or function of the classifier part of the model. Perhaps the point of biggest influence is a change to the feature extractor.\n",
        "\n",
        "We can increase the depth of the feature extractor part of the model, following a [VGG-like pattern](https://machinelearningmastery.com/how-to-implement-major-architecture-innovations-for-convolutional-neural-networks/) of adding more convolutional and pooling layers with the same sized filter, while increasing the number of filters. In this case, we will add a double convolutional layer with 64 filters each, followed by another max pooling layer.\n",
        "\n",
        "The updated version of the define_model() function with this change is listed below."
      ]
    },
    {
      "cell_type": "code",
      "metadata": {
        "id": "fnJBWy5UOjpH"
      },
      "source": [
        "# define cnn model\n",
        "def define_model():\n",
        "\tmodel = Sequential()\n",
        "\tmodel.add(Conv2D(32, (3, 3), activation='relu', kernel_initializer='he_uniform', input_shape=(28, 28, 1)))\n",
        "\tmodel.add(MaxPooling2D((2, 2)))\n",
        "\tmodel.add(Conv2D(64, (3, 3), activation='relu', kernel_initializer='he_uniform'))\n",
        "\tmodel.add(Conv2D(64, (3, 3), activation='relu', kernel_initializer='he_uniform'))\n",
        "\tmodel.add(MaxPooling2D((2, 2)))\n",
        "\tmodel.add(Flatten())\n",
        "\tmodel.add(Dense(100, activation='relu', kernel_initializer='he_uniform'))\n",
        "\tmodel.add(Dense(10, activation='softmax'))\n",
        "\t# compile model\n",
        "\topt = SGD(lr=0.01, momentum=0.9)\n",
        "\tmodel.compile(optimizer=opt, loss='categorical_crossentropy', metrics=['accuracy'])\n",
        "\treturn model"
      ],
      "execution_count": null,
      "outputs": []
    },
    {
      "cell_type": "markdown",
      "metadata": {
        "id": "aVjBcrWYOmzB"
      },
      "source": [
        "For completeness, the entire code listing, including this change, is provided below."
      ]
    },
    {
      "cell_type": "code",
      "metadata": {
        "id": "R_iP8PPQOqyv"
      },
      "source": [
        "# deeper cnn model for mnist\n",
        "from numpy import mean\n",
        "from numpy import std\n",
        "from matplotlib import pyplot\n",
        "from sklearn.model_selection import KFold\n",
        "from keras.datasets import mnist\n",
        "from keras.utils import to_categorical\n",
        "from keras.models import Sequential\n",
        "from keras.layers import Conv2D\n",
        "from keras.layers import MaxPooling2D\n",
        "from keras.layers import Dense\n",
        "from keras.layers import Flatten\n",
        "from keras.optimizers import SGD\n",
        " \n",
        "# load train and test dataset\n",
        "def load_dataset():\n",
        "\t# load dataset\n",
        "\t(trainX, trainY), (testX, testY) = mnist.load_data()\n",
        "\t# reshape dataset to have a single channel\n",
        "\ttrainX = trainX.reshape((trainX.shape[0], 28, 28, 1))\n",
        "\ttestX = testX.reshape((testX.shape[0], 28, 28, 1))\n",
        "\t# one hot encode target values\n",
        "\ttrainY = to_categorical(trainY)\n",
        "\ttestY = to_categorical(testY)\n",
        "\treturn trainX, trainY, testX, testY\n",
        " \n",
        "# scale pixels\n",
        "def prep_pixels(train, test):\n",
        "\t# convert from integers to floats\n",
        "\ttrain_norm = train.astype('float32')\n",
        "\ttest_norm = test.astype('float32')\n",
        "\t# normalize to range 0-1\n",
        "\ttrain_norm = train_norm / 255.0\n",
        "\ttest_norm = test_norm / 255.0\n",
        "\t# return normalized images\n",
        "\treturn train_norm, test_norm\n",
        " \n",
        "# define cnn model\n",
        "def define_model():\n",
        "\tmodel = Sequential()\n",
        "\tmodel.add(Conv2D(32, (3, 3), activation='relu', kernel_initializer='he_uniform', input_shape=(28, 28, 1)))\n",
        "\tmodel.add(MaxPooling2D((2, 2)))\n",
        "\tmodel.add(Conv2D(64, (3, 3), activation='relu', kernel_initializer='he_uniform'))\n",
        "\tmodel.add(Conv2D(64, (3, 3), activation='relu', kernel_initializer='he_uniform'))\n",
        "\tmodel.add(MaxPooling2D((2, 2)))\n",
        "\tmodel.add(Flatten())\n",
        "\tmodel.add(Dense(100, activation='relu', kernel_initializer='he_uniform'))\n",
        "\tmodel.add(Dense(10, activation='softmax'))\n",
        "\t# compile model\n",
        "\topt = SGD(lr=0.01, momentum=0.9)\n",
        "\tmodel.compile(optimizer=opt, loss='categorical_crossentropy', metrics=['accuracy'])\n",
        "\treturn model\n",
        " \n",
        "# evaluate a model using k-fold cross-validation\n",
        "def evaluate_model(dataX, dataY, n_folds=5):\n",
        "\tscores, histories = list(), list()\n",
        "\t# prepare cross validation\n",
        "\tkfold = KFold(n_folds, shuffle=True, random_state=1)\n",
        "\t# enumerate splits\n",
        "\tfor train_ix, test_ix in kfold.split(dataX):\n",
        "\t\t# define model\n",
        "\t\tmodel = define_model()\n",
        "\t\t# select rows for train and test\n",
        "\t\ttrainX, trainY, testX, testY = dataX[train_ix], dataY[train_ix], dataX[test_ix], dataY[test_ix]\n",
        "\t\t# fit model\n",
        "\t\thistory = model.fit(trainX, trainY, epochs=10, batch_size=32, validation_data=(testX, testY), verbose=0)\n",
        "\t\t# evaluate model\n",
        "\t\t_, acc = model.evaluate(testX, testY, verbose=0)\n",
        "\t\tprint('> %.3f' % (acc * 100.0))\n",
        "\t\t# stores scores\n",
        "\t\tscores.append(acc)\n",
        "\t\thistories.append(history)\n",
        "\treturn scores, histories\n",
        " \n",
        "# plot diagnostic learning curves\n",
        "def summarize_diagnostics(histories):\n",
        "\tfor i in range(len(histories)):\n",
        "\t\t# plot loss\n",
        "\t\tpyplot.subplot(2, 1, 1)\n",
        "\t\tpyplot.title('Cross Entropy Loss')\n",
        "\t\tpyplot.plot(histories[i].history['loss'], color='blue', label='train')\n",
        "\t\tpyplot.plot(histories[i].history['val_loss'], color='orange', label='test')\n",
        "\t\t# plot accuracy\n",
        "\t\tpyplot.subplot(2, 1, 2)\n",
        "\t\tpyplot.title('Classification Accuracy')\n",
        "\t\tpyplot.plot(histories[i].history['accuracy'], color='blue', label='train')\n",
        "\t\tpyplot.plot(histories[i].history['val_accuracy'], color='orange', label='test')\n",
        "\tpyplot.show()\n",
        " \n",
        "# summarize model performance\n",
        "def summarize_performance(scores):\n",
        "\t# print summary\n",
        "\tprint('Accuracy: mean=%.3f std=%.3f, n=%d' % (mean(scores)*100, std(scores)*100, len(scores)))\n",
        "\t# box and whisker plots of results\n",
        "\tpyplot.boxplot(scores)\n",
        "\tpyplot.show()\n",
        " \n",
        "# run the test harness for evaluating a model\n",
        "def run_test_harness():\n",
        "\t# load dataset\n",
        "\ttrainX, trainY, testX, testY = load_dataset()\n",
        "\t# prepare pixel data\n",
        "\ttrainX, testX = prep_pixels(trainX, testX)\n",
        "\t# evaluate model\n",
        "\tscores, histories = evaluate_model(trainX, trainY)\n",
        "\t# learning curves\n",
        "\tsummarize_diagnostics(histories)\n",
        "\t# summarize estimated performance\n",
        "\tsummarize_performance(scores)\n",
        " \n",
        "# entry point, run the test harness\n",
        "run_test_harness()"
      ],
      "execution_count": null,
      "outputs": []
    },
    {
      "cell_type": "markdown",
      "metadata": {
        "id": "BlyuwSouOvxd"
      },
      "source": [
        "Running the example reports model performance for each fold of the cross-validation process.\n",
        "\n",
        "Note: Your [results may vary](https://machinelearningmastery.com/different-results-each-time-in-machine-learning/) given the stochastic nature of the algorithm or evaluation procedure, or differences in numerical precision. Consider running the example a few times and compare the average outcome.\n",
        "\n",
        "The per-fold scores may suggest some improvement over the baseline."
      ]
    },
    {
      "cell_type": "markdown",
      "metadata": {
        "id": "Hzh89dxuPXc4"
      },
      "source": [
        "1 > 99.058</br>\n",
        "2 > 99.042</br>\n",
        "3 > 98.883</br>\n",
        "4 > 99.192</br>\n",
        "5 > 99.133\n"
      ]
    },
    {
      "cell_type": "markdown",
      "metadata": {
        "id": "AD4ZBje9PtIg"
      },
      "source": [
        "A plot of the learning curves is created, in this case showing that the models still have a good fit on the problem, with no clear signs of overfitting. The plots may even suggest that further training epochs could be helpful.\n",
        "\n",
        "**See Plot Below**"
      ]
    },
    {
      "cell_type": "markdown",
      "metadata": {
        "id": "hD6kWVKPQUgu"
      },
      "source": [
        "Next, the estimated performance of the model is presented, showing a small improvement in performance as compared to the baseline from 98.677 to 99.062, with a small drop in the standard deviation as well.</br>\n",
        "\n",
        "**Accuracy: mean=99.062 std=0.104, n=5**"
      ]
    },
    {
      "cell_type": "markdown",
      "metadata": {
        "id": "HQp-hfOxQkRS"
      },
      "source": [
        "**5. How to Finalize the Model and Make Predictions**"
      ]
    },
    {
      "cell_type": "markdown",
      "metadata": {
        "id": "2THh9SSuQrux"
      },
      "source": [
        "The process of model improvement may continue for as long as we have ideas and the time and resources to test them out.\n",
        "\n",
        "At some point, a final model configuration must be chosen and adopted. In this case, we will choose the deeper model as our final model.\n",
        "\n",
        "First, we will finalize our model, but fitting a model on the entire training dataset and saving the model to file for later use. We will then load the model and evaluate its performance on the hold out test dataset to get an idea of how well the chosen model actually performs in practice. Finally, we will use the saved model to make a prediction on a single image."
      ]
    },
    {
      "cell_type": "markdown",
      "metadata": {
        "id": "3Lm591B3QvQB"
      },
      "source": [
        "**Save Final Model**"
      ]
    },
    {
      "cell_type": "markdown",
      "metadata": {
        "id": "1ga4Ag6-QzkQ"
      },
      "source": [
        "A final model is typically fit on all available data, such as the combination of all train and test dataset.\n",
        "\n",
        "In this tutorial, we are intentionally holding back a test dataset so that we can estimate the performance of the final model, which can be a good idea in practice. As such, we will fit our model on the training dataset only."
      ]
    },
    {
      "cell_type": "code",
      "metadata": {
        "id": "rlhJN99DRQXY"
      },
      "source": [
        "#fit model\n",
        "model.fit(trainX, trainY, epochs=10, batch_size=32, verbose=0)"
      ],
      "execution_count": null,
      "outputs": []
    },
    {
      "cell_type": "markdown",
      "metadata": {
        "id": "LR8dk-_TQ3v1"
      },
      "source": [
        "Once fit, we can save the final model to an H5 file by calling the save() function on the model and pass in the chosen filename."
      ]
    },
    {
      "cell_type": "code",
      "metadata": {
        "id": "G5G5LzyqRVmw"
      },
      "source": [
        "# save model\n",
        "model.save('final_model.h5')"
      ],
      "execution_count": null,
      "outputs": []
    },
    {
      "cell_type": "markdown",
      "metadata": {
        "id": "J21esHgaRBmL"
      },
      "source": [
        "Note, saving and loading a Keras model requires that the [h5py library](https://www.h5py.org/) is installed on your workstation.\n",
        "\n",
        "The complete example of fitting the final deep model on the training dataset and saving it to file is listed below."
      ]
    },
    {
      "cell_type": "code",
      "metadata": {
        "id": "HUkK7pEcRmLh"
      },
      "source": [
        "# save the final model to file\n",
        "from keras.datasets import mnist\n",
        "from keras.utils import to_categorical\n",
        "from keras.models import Sequential\n",
        "from keras.layers import Conv2D\n",
        "from keras.layers import MaxPooling2D\n",
        "from keras.layers import Dense\n",
        "from keras.layers import Flatten\n",
        "from keras.optimizers import SGD\n",
        " \n",
        "# load train and test dataset\n",
        "def load_dataset():\n",
        "\t# load dataset\n",
        "\t(trainX, trainY), (testX, testY) = mnist.load_data()\n",
        "\t# reshape dataset to have a single channel\n",
        "\ttrainX = trainX.reshape((trainX.shape[0], 28, 28, 1))\n",
        "\ttestX = testX.reshape((testX.shape[0], 28, 28, 1))\n",
        "\t# one hot encode target values\n",
        "\ttrainY = to_categorical(trainY)\n",
        "\ttestY = to_categorical(testY)\n",
        "\treturn trainX, trainY, testX, testY\n",
        " \n",
        "# scale pixels\n",
        "def prep_pixels(train, test):\n",
        "\t# convert from integers to floats\n",
        "\ttrain_norm = train.astype('float32')\n",
        "\ttest_norm = test.astype('float32')\n",
        "\t# normalize to range 0-1\n",
        "\ttrain_norm = train_norm / 255.0\n",
        "\ttest_norm = test_norm / 255.0\n",
        "\t# return normalized images\n",
        "\treturn train_norm, test_norm\n",
        " \n",
        "# define cnn model\n",
        "def define_model():\n",
        "\tmodel = Sequential()\n",
        "\tmodel.add(Conv2D(32, (3, 3), activation='relu', kernel_initializer='he_uniform', input_shape=(28, 28, 1)))\n",
        "\tmodel.add(MaxPooling2D((2, 2)))\n",
        "\tmodel.add(Conv2D(64, (3, 3), activation='relu', kernel_initializer='he_uniform'))\n",
        "\tmodel.add(Conv2D(64, (3, 3), activation='relu', kernel_initializer='he_uniform'))\n",
        "\tmodel.add(MaxPooling2D((2, 2)))\n",
        "\tmodel.add(Flatten())\n",
        "\tmodel.add(Dense(100, activation='relu', kernel_initializer='he_uniform'))\n",
        "\tmodel.add(Dense(10, activation='softmax'))\n",
        "\t# compile model\n",
        "\topt = SGD(lr=0.01, momentum=0.9)\n",
        "\tmodel.compile(optimizer=opt, loss='categorical_crossentropy', metrics=['accuracy'])\n",
        "\treturn model\n",
        " \n",
        "# run the test harness for evaluating a model\n",
        "def run_test_harness():\n",
        "\t# load dataset\n",
        "\ttrainX, trainY, testX, testY = load_dataset()\n",
        "\t# prepare pixel data\n",
        "\ttrainX, testX = prep_pixels(trainX, testX)\n",
        "\t# define model\n",
        "\tmodel = define_model()\n",
        "\t# fit model\n",
        "\tmodel.fit(trainX, trainY, epochs=10, batch_size=32, verbose=0)\n",
        "\t# save model\n",
        "\tmodel.save('final_model.h5')\n",
        " \n",
        "# entry point, run the test harness\n",
        "run_test_harness()"
      ],
      "execution_count": null,
      "outputs": []
    },
    {
      "cell_type": "markdown",
      "metadata": {
        "id": "FzKw4URVRrZR"
      },
      "source": [
        "After running this example, you will now have a 1.2-megabyte file with the name ‘final_model.h5‘ in your current working directory."
      ]
    },
    {
      "cell_type": "markdown",
      "metadata": {
        "id": "9WTOxZC6RubN"
      },
      "source": [
        "**Evaluate Final Model**"
      ]
    },
    {
      "cell_type": "markdown",
      "metadata": {
        "id": "Ahr_1KsMRztL"
      },
      "source": [
        "We can now load the final model and evaluate it on the hold out test dataset.\n",
        "\n",
        "This is something we might do if we were interested in presenting the performance of the chosen model to project stakeholders.\n",
        "\n",
        "The model can be loaded via the load_model() function.\n",
        "\n",
        "The complete example of loading the saved model and evaluating it on the test dataset is listed below."
      ]
    },
    {
      "cell_type": "code",
      "metadata": {
        "id": "06qKOfcPR4QI"
      },
      "source": [
        "# evaluate the deep model on the test dataset\n",
        "from keras.datasets import mnist\n",
        "from keras.models import load_model\n",
        "from keras.utils import to_categorical\n",
        " \n",
        "# load train and test dataset\n",
        "def load_dataset():\n",
        "\t# load dataset\n",
        "\t(trainX, trainY), (testX, testY) = mnist.load_data()\n",
        "\t# reshape dataset to have a single channel\n",
        "\ttrainX = trainX.reshape((trainX.shape[0], 28, 28, 1))\n",
        "\ttestX = testX.reshape((testX.shape[0], 28, 28, 1))\n",
        "\t# one hot encode target values\n",
        "\ttrainY = to_categorical(trainY)\n",
        "\ttestY = to_categorical(testY)\n",
        "\treturn trainX, trainY, testX, testY\n",
        " \n",
        "# scale pixels\n",
        "def prep_pixels(train, test):\n",
        "\t# convert from integers to floats\n",
        "\ttrain_norm = train.astype('float32')\n",
        "\ttest_norm = test.astype('float32')\n",
        "\t# normalize to range 0-1\n",
        "\ttrain_norm = train_norm / 255.0\n",
        "\ttest_norm = test_norm / 255.0\n",
        "\t# return normalized images\n",
        "\treturn train_norm, test_norm\n",
        " \n",
        "# run the test harness for evaluating a model\n",
        "def run_test_harness():\n",
        "\t# load dataset\n",
        "\ttrainX, trainY, testX, testY = load_dataset()\n",
        "\t# prepare pixel data\n",
        "\ttrainX, testX = prep_pixels(trainX, testX)\n",
        "\t# load model\n",
        "\tmodel = load_model('final_model.h5')\n",
        "\t# evaluate model on test dataset\n",
        "\t_, acc = model.evaluate(testX, testY, verbose=0)\n",
        "\tprint('> %.3f' % (acc * 100.0))\n",
        " \n",
        "# entry point, run the test harness\n",
        "run_test_harness()"
      ],
      "execution_count": null,
      "outputs": []
    },
    {
      "cell_type": "markdown",
      "metadata": {
        "id": "UBoTjortR8A4"
      },
      "source": [
        "Running the example loads the saved model and evaluates the model on the hold out test dataset.\n",
        "\n",
        "Note: Your [results may vary](https://machinelearningmastery.com/different-results-each-time-in-machine-learning/) given the stochastic nature of the algorithm or evaluation procedure, or differences in numerical precision. Consider running the example a few times and compare the average outcome.\n",
        "\n",
        "The classification accuracy for the model on the test dataset is calculated and printed. In this case, we can see that the model achieved an accuracy of 99.090%, or just less than 1%, which is not bad at all and reasonably close to the estimated 99.753% with a standard deviation of about half a percent (e.g. 99% of scores)."
      ]
    },
    {
      "cell_type": "markdown",
      "metadata": {
        "id": "P7_RzvhISG-D"
      },
      "source": [
        "**> 99.090**"
      ]
    },
    {
      "cell_type": "markdown",
      "metadata": {
        "id": "7sQ4zkAMSNdw"
      },
      "source": [
        "**Make Prediction**"
      ]
    },
    {
      "cell_type": "markdown",
      "metadata": {
        "id": "BMsgFLTLSR5K"
      },
      "source": [
        "We can use our saved model to make a prediction on new images.\n",
        "\n",
        "The model assumes that new images are grayscale, that they have been aligned so that one image contains one centered handwritten digit, and that the size of the image is square with the size 28×28 pixels.\n",
        "\n",
        "Below is an image extracted from the MNIST test dataset. You can save it in your current working directory with the filename ‘sample_image.png‘.\n",
        "\n",
        "[Download this sample image](https://machinelearningmastery.com/wp-content/uploads/2019/02/sample_image.png)\n",
        "\n",
        "We will pretend this is an entirely new and unseen image, prepared in the required way, and see how we might use our saved model to predict the integer that the image represents (e.g. we expect “7“).\n",
        "\n",
        "First, we can load the image, force it to be in grayscale format, and force the size to be 28×28 pixels. The loaded image can then be resized to have a single channel and represent a single sample in a dataset. The load_image() function implements this and will return the loaded image ready for classification.\n",
        "\n",
        "Importantly, the pixel values are prepared in the same way as the pixel values were prepared for the training dataset when fitting the final model, in this case, normalized."
      ]
    },
    {
      "cell_type": "code",
      "metadata": {
        "id": "PStxEq8CSnwY"
      },
      "source": [
        "# load and prepare the image\n",
        "def load_image(filename):\n",
        "\t# load the image\n",
        "\timg = load_img(filename, grayscale=True, target_size=(28, 28))\n",
        "\t# convert to array\n",
        "\timg = img_to_array(img)\n",
        "\t# reshape into a single sample with 1 channel\n",
        "\timg = img.reshape(1, 28, 28, 1)\n",
        "\t# prepare pixel data\n",
        "\timg = img.astype('float32')\n",
        "\timg = img / 255.0\n",
        "\treturn img"
      ],
      "execution_count": null,
      "outputs": []
    },
    {
      "cell_type": "markdown",
      "metadata": {
        "id": "mglXuUjMSvM9"
      },
      "source": [
        "Next, we can load the model as in the previous section and call the predict_classes() function to predict the digit that the image represents."
      ]
    },
    {
      "cell_type": "code",
      "metadata": {
        "id": "EhfXTLQES0-T"
      },
      "source": [
        "# predict the class\n",
        "digit = model.predict_classes(img)"
      ],
      "execution_count": null,
      "outputs": []
    },
    {
      "cell_type": "markdown",
      "metadata": {
        "id": "NwcjEER0S4Mb"
      },
      "source": [
        "The complete example is listed below."
      ]
    },
    {
      "cell_type": "code",
      "metadata": {
        "id": "0VoNwuJNS7NU"
      },
      "source": [
        "# make a prediction for a new image.\n",
        "from keras.preprocessing.image import load_img\n",
        "from keras.preprocessing.image import img_to_array\n",
        "from keras.models import load_model\n",
        " \n",
        "# load and prepare the image\n",
        "def load_image(filename):\n",
        "\t# load the image\n",
        "\timg = load_img(filename, grayscale=True, target_size=(28, 28))\n",
        "\t# convert to array\n",
        "\timg = img_to_array(img)\n",
        "\t# reshape into a single sample with 1 channel\n",
        "\timg = img.reshape(1, 28, 28, 1)\n",
        "\t# prepare pixel data\n",
        "\timg = img.astype('float32')\n",
        "\timg = img / 255.0\n",
        "\treturn img\n",
        " \n",
        "# load an image and predict the class\n",
        "def run_example():\n",
        "\t# load the image\n",
        "\timg = load_image('sample_image.png')\n",
        "\t# load model\n",
        "\tmodel = load_model('final_model.h5')\n",
        "\t# predict the class\n",
        "\tdigit = model.predict_classes(img)\n",
        "\tprint(digit[0])\n",
        " \n",
        "# entry point, run the example\n",
        "run_example()"
      ],
      "execution_count": null,
      "outputs": []
    },
    {
      "cell_type": "markdown",
      "metadata": {
        "id": "VYh6zNG7TBaZ"
      },
      "source": [
        "Running the example first loads and prepares the image, loads the model, and then correctly predicts that the loaded image represents the digit ‘7‘.\n",
        "\n",
        "**7**"
      ]
    },
    {
      "cell_type": "markdown",
      "metadata": {
        "id": "fnDTSADnTTcz"
      },
      "source": [
        "**Extensions**\n",
        "\n",
        "This section lists some ideas for extending the tutorial that you may wish to explore.\n",
        "\n",
        "**Tune Pixel Scaling**. Explore how alternate pixel scaling methods impact model performance as compared to the baseline model, including centering and standardization.\n",
        "\n",
        "**Tune the Learning Rate**. Explore how different learning rates impact the model performance as compared to the baseline model, such as 0.001 and 0.0001.\n",
        "\n",
        "**Tune Model Depth**. Explore how adding more layers to the model impact the model performance as compared to the baseline model, such as another block of convolutional and pooling layers or another dense layer in the classifier part of the model.\n",
        "\n",
        "If you explore any of these extensions, I’d love to know.\n",
        "Post your findings in the comments below."
      ]
    },
    {
      "cell_type": "markdown",
      "metadata": {
        "id": "_-BVTd6CTe6o"
      },
      "source": [
        "**Further Reading**"
      ]
    },
    {
      "cell_type": "markdown",
      "metadata": {
        "id": "K6LdSnX_TlxN"
      },
      "source": [
        "This section provides more resources on the topic if you are looking to go deeper.\n",
        "\n",
        "**APIs**\n",
        "\n",
        "[Keras Datasets API](https://keras.io/datasets/)</br>\n",
        "[Keras Datasets Code](https://github.com/keras-team/keras/tree/master/keras/datasets)</br>\n",
        "[sklearn.model_selection.KFold API](https://scikit-learn.org/stable/modules/generated/sklearn.model_selection.KFold.html)"
      ]
    },
    {
      "cell_type": "markdown",
      "metadata": {
        "id": "cscFz8h-ULtK"
      },
      "source": [
        "**Articles**\n",
        "\n",
        "[MNIST database, Wikipedia](https://en.wikipedia.org/wiki/MNIST_database)</br>\n",
        "[Classification datasets results, What is the class of this image?](https://rodrigob.github.io/are_we_there_yet/build/classification_datasets_results.html)"
      ]
    },
    {
      "cell_type": "markdown",
      "metadata": {
        "id": "H6elbTzLTrCW"
      },
      "source": [
        "**Summary**\n",
        "\n",
        "In this tutorial, you discovered how to develop a convolutional neural network for handwritten digit classification from scratch.\n",
        "\n",
        "Specifically, you learned:\n",
        "\n",
        "* How to develop a test harness to develop a robust evaluation of a model and establish a baseline of performance for a classification task.\n",
        "* How to explore extensions to a baseline model to improve learning and model capacity.\n",
        "* How to develop a finalized model, evaluate the performance of the final model, and use it to make predictions on new images.\n",
        "\n",
        "Do you have any questions?\n",
        "Ask your questions in the comments below and I will do my best to answer.\n",
        "\n",
        "[See what's inside of the eBook Deep Learning for Computer Vision](https://machinelearningmastery.com/deep-learning-for-computer-vision/)</br>"
      ]
    },
    {
      "cell_type": "markdown",
      "metadata": {
        "id": "7k-cLsf3Vipy"
      },
      "source": [
        ""
      ]
    }
  ]
}